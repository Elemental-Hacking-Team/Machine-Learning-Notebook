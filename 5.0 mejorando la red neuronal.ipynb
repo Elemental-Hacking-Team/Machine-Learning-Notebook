{
 "cells": [
  {
   "cell_type": "markdown",
   "metadata": {},
   "source": [
    "<img style=\"float: right;\" src=\"files/EHT.jpg\" width=\"100\" height=\"100\">\n",
    "\n",
    "## Mejorando la red neuronal con hiperparámetros con Keras"
   ]
  },
  {
   "cell_type": "markdown",
   "metadata": {},
   "source": [
    "En este último tutorial se seguirá utilizando el mismo conjunto de datos, y la misma librería. En este caso se hará un código para poder hacer análsis de hiperparámetros en rangos definidos.\n",
    "\n",
    "Utilizaremos la función [GridSearchCV](https://scikit-learn.org/stable/modules/grid_search.html) para generar una red de parámetros que se van a probar. \n",
    "\n",
    "Hacemos lo usual, importar los datos y separarlos en entradas y salida."
   ]
  },
  {
   "cell_type": "code",
   "execution_count": 1,
   "metadata": {},
   "outputs": [
    {
     "name": "stderr",
     "output_type": "stream",
     "text": [
      "Using TensorFlow backend.\n",
      "F:\\Users\\USER\\anaconda3\\lib\\site-packages\\tensorflow\\python\\framework\\dtypes.py:526: FutureWarning: Passing (type, 1) or '1type' as a synonym of type is deprecated; in a future version of numpy, it will be understood as (type, (1,)) / '(1,)type'.\n",
      "  _np_qint8 = np.dtype([(\"qint8\", np.int8, 1)])\n",
      "F:\\Users\\USER\\anaconda3\\lib\\site-packages\\tensorflow\\python\\framework\\dtypes.py:527: FutureWarning: Passing (type, 1) or '1type' as a synonym of type is deprecated; in a future version of numpy, it will be understood as (type, (1,)) / '(1,)type'.\n",
      "  _np_quint8 = np.dtype([(\"quint8\", np.uint8, 1)])\n",
      "F:\\Users\\USER\\anaconda3\\lib\\site-packages\\tensorflow\\python\\framework\\dtypes.py:528: FutureWarning: Passing (type, 1) or '1type' as a synonym of type is deprecated; in a future version of numpy, it will be understood as (type, (1,)) / '(1,)type'.\n",
      "  _np_qint16 = np.dtype([(\"qint16\", np.int16, 1)])\n",
      "F:\\Users\\USER\\anaconda3\\lib\\site-packages\\tensorflow\\python\\framework\\dtypes.py:529: FutureWarning: Passing (type, 1) or '1type' as a synonym of type is deprecated; in a future version of numpy, it will be understood as (type, (1,)) / '(1,)type'.\n",
      "  _np_quint16 = np.dtype([(\"quint16\", np.uint16, 1)])\n",
      "F:\\Users\\USER\\anaconda3\\lib\\site-packages\\tensorflow\\python\\framework\\dtypes.py:530: FutureWarning: Passing (type, 1) or '1type' as a synonym of type is deprecated; in a future version of numpy, it will be understood as (type, (1,)) / '(1,)type'.\n",
      "  _np_qint32 = np.dtype([(\"qint32\", np.int32, 1)])\n",
      "F:\\Users\\USER\\anaconda3\\lib\\site-packages\\tensorflow\\python\\framework\\dtypes.py:535: FutureWarning: Passing (type, 1) or '1type' as a synonym of type is deprecated; in a future version of numpy, it will be understood as (type, (1,)) / '(1,)type'.\n",
      "  np_resource = np.dtype([(\"resource\", np.ubyte, 1)])\n"
     ]
    }
   ],
   "source": [
    "import numpy as np\n",
    "from sklearn.model_selection import GridSearchCV\n",
    "from keras.models import Sequential\n",
    "from keras.layers import Dense\n",
    "from keras.layers import Dropout\n",
    "from keras.wrappers.scikit_learn import KerasClassifier\n",
    "\n",
    "dataset = np.loadtxt(\"pima-indians-diabetes.csv\", delimiter=\",\")\n",
    "\n",
    "X = dataset[:,0:-1]\n",
    "y = dataset[:,-1]"
   ]
  },
  {
   "cell_type": "markdown",
   "metadata": {},
   "source": [
    "Usamos una función para poder asignar valores con ayuda de los parámetros de entrada. En esta ocasión solo pondremos como variable de entrada el número de neuronas en la primera capa oculta (neurons), de la segunda capa (neurons2) y el optimizador (optimizer)."
   ]
  },
  {
   "cell_type": "code",
   "execution_count": 2,
   "metadata": {},
   "outputs": [],
   "source": [
    "def create_model(neurons=1, neurons2=1, optimizer='adam'):\n",
    "    model = Sequential()\n",
    "    model.add(Dense(neurons, input_dim=X.shape[1], activation='relu'))\n",
    "    model.add(Dropout(0.2))\n",
    "    model.add(Dense(neurons2, activation='relu'))\n",
    "    model.add(Dropout(0.2))\n",
    "    model.add(Dense(1, activation='sigmoid'))\n",
    "    model.compile(loss='binary_crossentropy', optimizer=optimizer, metrics=['accuracy'])\n",
    "    return model"
   ]
  },
  {
   "cell_type": "markdown",
   "metadata": {},
   "source": [
    "Ahora generamos el clasificador con la arquitectura definida en la función create_model"
   ]
  },
  {
   "cell_type": "code",
   "execution_count": 3,
   "metadata": {},
   "outputs": [],
   "source": [
    "model = KerasClassifier(build_fn=create_model, epochs=100, batch_size=10, verbose=10)"
   ]
  },
  {
   "cell_type": "markdown",
   "metadata": {},
   "source": [
    "Aquí hacemos un lista para cada parámetro con los rangos que se van a probar. GridSerachCV necesita un [dictionary](https://docs.python.org/3/tutorial/datastructures.html#dictionaries) con las listas y el parámetro al que pertenecen."
   ]
  },
  {
   "cell_type": "code",
   "execution_count": 4,
   "metadata": {},
   "outputs": [],
   "source": [
    "neurons = list(range(10, 15, 1))\n",
    "neurons2 = list(range(10, 15, 1))\n",
    "optimizer = ['SGD', 'RMSprop', 'Adadelta', 'Adam']\n",
    "\n",
    "param_grid = dict(neurons=neurons, neurons2=neurons2, optimizer=optimizer)\n",
    "grid = GridSearchCV(estimator=model, param_grid=param_grid, n_jobs=-1)"
   ]
  },
  {
   "cell_type": "markdown",
   "metadata": {},
   "source": [
    "Después se hace en el entrenamiento de grid usando el método fit"
   ]
  },
  {
   "cell_type": "code",
   "execution_count": 5,
   "metadata": {},
   "outputs": [
    {
     "name": "stderr",
     "output_type": "stream",
     "text": [
      "F:\\Users\\USER\\anaconda3\\lib\\site-packages\\joblib\\externals\\loky\\process_executor.py:706: UserWarning: A worker stopped while some jobs were given to the executor. This can be caused by a too short worker timeout or by a memory leak.\n",
      "  \"timeout or by a memory leak.\", UserWarning\n"
     ]
    },
    {
     "name": "stdout",
     "output_type": "stream",
     "text": [
      "WARNING:tensorflow:From F:\\Users\\USER\\anaconda3\\lib\\site-packages\\tensorflow\\python\\ops\\resource_variable_ops.py:435: colocate_with (from tensorflow.python.framework.ops) is deprecated and will be removed in a future version.\n",
      "Instructions for updating:\n",
      "Colocations handled automatically by placer.\n",
      "WARNING:tensorflow:From F:\\Users\\USER\\anaconda3\\lib\\site-packages\\tensorflow\\python\\ops\\math_ops.py:3066: to_int32 (from tensorflow.python.ops.math_ops) is deprecated and will be removed in a future version.\n",
      "Instructions for updating:\n",
      "Use tf.cast instead.\n",
      "Epoch 1/100\n",
      "Epoch 2/100\n",
      "Epoch 3/100\n",
      "Epoch 4/100\n",
      "Epoch 5/100\n",
      "Epoch 6/100\n",
      "Epoch 7/100\n",
      "Epoch 8/100\n",
      "Epoch 9/100\n",
      "Epoch 10/100\n",
      "Epoch 11/100\n",
      "Epoch 12/100\n",
      "Epoch 13/100\n",
      "Epoch 14/100\n",
      "Epoch 15/100\n",
      "Epoch 16/100\n",
      "Epoch 17/100\n",
      "Epoch 18/100\n",
      "Epoch 19/100\n",
      "Epoch 20/100\n",
      "Epoch 21/100\n",
      "Epoch 22/100\n",
      "Epoch 23/100\n",
      "Epoch 24/100\n",
      "Epoch 25/100\n",
      "Epoch 26/100\n",
      "Epoch 27/100\n",
      "Epoch 28/100\n",
      "Epoch 29/100\n",
      "Epoch 30/100\n",
      "Epoch 31/100\n",
      "Epoch 32/100\n",
      "Epoch 33/100\n",
      "Epoch 34/100\n",
      "Epoch 35/100\n",
      "Epoch 36/100\n",
      "Epoch 37/100\n",
      "Epoch 38/100\n",
      "Epoch 39/100\n",
      "Epoch 40/100\n",
      "Epoch 41/100\n",
      "Epoch 42/100\n",
      "Epoch 43/100\n",
      "Epoch 44/100\n",
      "Epoch 45/100\n",
      "Epoch 46/100\n",
      "Epoch 47/100\n",
      "Epoch 48/100\n",
      "Epoch 49/100\n",
      "Epoch 50/100\n",
      "Epoch 51/100\n",
      "Epoch 52/100\n",
      "Epoch 53/100\n",
      "Epoch 54/100\n",
      "Epoch 55/100\n",
      "Epoch 56/100\n",
      "Epoch 57/100\n",
      "Epoch 58/100\n",
      "Epoch 59/100\n",
      "Epoch 60/100\n",
      "Epoch 61/100\n",
      "Epoch 62/100\n",
      "Epoch 63/100\n",
      "Epoch 64/100\n",
      "Epoch 65/100\n",
      "Epoch 66/100\n",
      "Epoch 67/100\n",
      "Epoch 68/100\n",
      "Epoch 69/100\n",
      "Epoch 70/100\n",
      "Epoch 71/100\n",
      "Epoch 72/100\n",
      "Epoch 73/100\n",
      "Epoch 74/100\n",
      "Epoch 75/100\n",
      "Epoch 76/100\n",
      "Epoch 77/100\n",
      "Epoch 78/100\n",
      "Epoch 79/100\n",
      "Epoch 80/100\n",
      "Epoch 81/100\n",
      "Epoch 82/100\n",
      "Epoch 83/100\n",
      "Epoch 84/100\n",
      "Epoch 85/100\n",
      "Epoch 86/100\n",
      "Epoch 87/100\n",
      "Epoch 88/100\n",
      "Epoch 89/100\n",
      "Epoch 90/100\n",
      "Epoch 91/100\n",
      "Epoch 92/100\n",
      "Epoch 93/100\n",
      "Epoch 94/100\n",
      "Epoch 95/100\n",
      "Epoch 96/100\n",
      "Epoch 97/100\n",
      "Epoch 98/100\n",
      "Epoch 99/100\n",
      "Epoch 100/100\n"
     ]
    }
   ],
   "source": [
    "grid_result = grid.fit(X, y)"
   ]
  },
  {
   "cell_type": "markdown",
   "metadata": {},
   "source": [
    "Una vez entrenada la red se hace imprimen los resultados (promedios y desviaciones)."
   ]
  },
  {
   "cell_type": "code",
   "execution_count": 6,
   "metadata": {},
   "outputs": [
    {
     "name": "stdout",
     "output_type": "stream",
     "text": [
      "0.669383 (0.055406) with: {'neurons': 10, 'neurons2': 10, 'optimizer': 'SGD'}\n",
      "0.674612 (0.069966) with: {'neurons': 10, 'neurons2': 10, 'optimizer': 'RMSprop'}\n",
      "0.691529 (0.056621) with: {'neurons': 10, 'neurons2': 10, 'optimizer': 'Adadelta'}\n",
      "0.658985 (0.061191) with: {'neurons': 10, 'neurons2': 10, 'optimizer': 'Adam'}\n",
      "0.665495 (0.062134) with: {'neurons': 10, 'neurons2': 11, 'optimizer': 'SGD'}\n",
      "0.679756 (0.041846) with: {'neurons': 10, 'neurons2': 11, 'optimizer': 'RMSprop'}\n",
      "0.678499 (0.050558) with: {'neurons': 10, 'neurons2': 11, 'optimizer': 'Adadelta'}\n",
      "0.675919 (0.062808) with: {'neurons': 10, 'neurons2': 11, 'optimizer': 'Adam'}\n",
      "0.682387 (0.042049) with: {'neurons': 10, 'neurons2': 12, 'optimizer': 'SGD'}\n",
      "0.711009 (0.052421) with: {'neurons': 10, 'neurons2': 12, 'optimizer': 'RMSprop'}\n",
      "0.673287 (0.047251) with: {'neurons': 10, 'neurons2': 12, 'optimizer': 'Adadelta'}\n",
      "0.684976 (0.057834) with: {'neurons': 10, 'neurons2': 12, 'optimizer': 'Adam'}\n",
      "0.649860 (0.052554) with: {'neurons': 10, 'neurons2': 13, 'optimizer': 'SGD'}\n",
      "0.681122 (0.065625) with: {'neurons': 10, 'neurons2': 13, 'optimizer': 'RMSprop'}\n",
      "0.679789 (0.044726) with: {'neurons': 10, 'neurons2': 13, 'optimizer': 'Adadelta'}\n",
      "0.678465 (0.052006) with: {'neurons': 10, 'neurons2': 13, 'optimizer': 'Adam'}\n",
      "0.649860 (0.054135) with: {'neurons': 10, 'neurons2': 14, 'optimizer': 'SGD'}\n",
      "0.677158 (0.048382) with: {'neurons': 10, 'neurons2': 14, 'optimizer': 'RMSprop'}\n",
      "0.686325 (0.052581) with: {'neurons': 10, 'neurons2': 14, 'optimizer': 'Adadelta'}\n",
      "0.678482 (0.052989) with: {'neurons': 10, 'neurons2': 14, 'optimizer': 'Adam'}\n",
      "0.665461 (0.039479) with: {'neurons': 11, 'neurons2': 10, 'optimizer': 'SGD'}\n",
      "0.681114 (0.059253) with: {'neurons': 11, 'neurons2': 10, 'optimizer': 'RMSprop'}\n",
      "0.665461 (0.051080) with: {'neurons': 11, 'neurons2': 10, 'optimizer': 'Adadelta'}\n",
      "0.687675 (0.073359) with: {'neurons': 11, 'neurons2': 10, 'optimizer': 'Adam'}\n",
      "0.656353 (0.048656) with: {'neurons': 11, 'neurons2': 11, 'optimizer': 'SGD'}\n",
      "0.679756 (0.054571) with: {'neurons': 11, 'neurons2': 11, 'optimizer': 'RMSprop'}\n",
      "0.668084 (0.056510) with: {'neurons': 11, 'neurons2': 11, 'optimizer': 'Adadelta'}\n",
      "0.696749 (0.059444) with: {'neurons': 11, 'neurons2': 11, 'optimizer': 'Adam'}\n",
      "0.669442 (0.072708) with: {'neurons': 11, 'neurons2': 12, 'optimizer': 'SGD'}\n",
      "0.683643 (0.036858) with: {'neurons': 11, 'neurons2': 12, 'optimizer': 'RMSprop'}\n",
      "0.666743 (0.041246) with: {'neurons': 11, 'neurons2': 12, 'optimizer': 'Adadelta'}\n",
      "0.688906 (0.046153) with: {'neurons': 11, 'neurons2': 12, 'optimizer': 'Adam'}\n",
      "0.660284 (0.052331) with: {'neurons': 11, 'neurons2': 13, 'optimizer': 'SGD'}\n",
      "0.704516 (0.043783) with: {'neurons': 11, 'neurons2': 13, 'optimizer': 'RMSprop'}\n",
      "0.660292 (0.063496) with: {'neurons': 11, 'neurons2': 13, 'optimizer': 'Adadelta'}\n",
      "0.687650 (0.076338) with: {'neurons': 11, 'neurons2': 13, 'optimizer': 'Adam'}\n",
      "0.662923 (0.074260) with: {'neurons': 11, 'neurons2': 14, 'optimizer': 'SGD'}\n",
      "0.699253 (0.023733) with: {'neurons': 11, 'neurons2': 14, 'optimizer': 'RMSprop'}\n",
      "0.682378 (0.042911) with: {'neurons': 11, 'neurons2': 14, 'optimizer': 'Adadelta'}\n",
      "0.675851 (0.040123) with: {'neurons': 11, 'neurons2': 14, 'optimizer': 'Adam'}\n",
      "0.653773 (0.057175) with: {'neurons': 12, 'neurons2': 10, 'optimizer': 'SGD'}\n",
      "0.685010 (0.062979) with: {'neurons': 12, 'neurons2': 10, 'optimizer': 'RMSprop'}\n",
      "0.673313 (0.060467) with: {'neurons': 12, 'neurons2': 10, 'optimizer': 'Adadelta'}\n",
      "0.662881 (0.052618) with: {'neurons': 12, 'neurons2': 10, 'optimizer': 'Adam'}\n",
      "0.662923 (0.066618) with: {'neurons': 12, 'neurons2': 11, 'optimizer': 'SGD'}\n",
      "0.686275 (0.046414) with: {'neurons': 12, 'neurons2': 11, 'optimizer': 'RMSprop'}\n",
      "0.678491 (0.053687) with: {'neurons': 12, 'neurons2': 11, 'optimizer': 'Adadelta'}\n",
      "0.695365 (0.046237) with: {'neurons': 12, 'neurons2': 11, 'optimizer': 'Adam'}\n",
      "0.690154 (0.055409) with: {'neurons': 12, 'neurons2': 12, 'optimizer': 'SGD'}\n",
      "0.688889 (0.051571) with: {'neurons': 12, 'neurons2': 12, 'optimizer': 'RMSprop'}\n",
      "0.692743 (0.039224) with: {'neurons': 12, 'neurons2': 12, 'optimizer': 'Adadelta'}\n",
      "0.696749 (0.076172) with: {'neurons': 12, 'neurons2': 12, 'optimizer': 'Adam'}\n",
      "0.656336 (0.045197) with: {'neurons': 12, 'neurons2': 13, 'optimizer': 'SGD'}\n",
      "0.681122 (0.072549) with: {'neurons': 12, 'neurons2': 13, 'optimizer': 'RMSprop'}\n",
      "0.682395 (0.059469) with: {'neurons': 12, 'neurons2': 13, 'optimizer': 'Adadelta'}\n",
      "0.669383 (0.060828) with: {'neurons': 12, 'neurons2': 13, 'optimizer': 'Adam'}\n",
      "0.656362 (0.051460) with: {'neurons': 12, 'neurons2': 14, 'optimizer': 'SGD'}\n",
      "0.696724 (0.058550) with: {'neurons': 12, 'neurons2': 14, 'optimizer': 'RMSprop'}\n",
      "0.674561 (0.052687) with: {'neurons': 12, 'neurons2': 14, 'optimizer': 'Adadelta'}\n",
      "0.665529 (0.065301) with: {'neurons': 12, 'neurons2': 14, 'optimizer': 'Adam'}\n",
      "0.661548 (0.044318) with: {'neurons': 13, 'neurons2': 10, 'optimizer': 'SGD'}\n",
      "0.687565 (0.040879) with: {'neurons': 13, 'neurons2': 10, 'optimizer': 'RMSprop'}\n",
      "0.656387 (0.065169) with: {'neurons': 13, 'neurons2': 10, 'optimizer': 'Adadelta'}\n",
      "0.697963 (0.041734) with: {'neurons': 13, 'neurons2': 10, 'optimizer': 'Adam'}\n",
      "0.682455 (0.079352) with: {'neurons': 13, 'neurons2': 11, 'optimizer': 'SGD'}\n",
      "0.699245 (0.043348) with: {'neurons': 13, 'neurons2': 11, 'optimizer': 'RMSprop'}\n",
      "0.662864 (0.054552) with: {'neurons': 13, 'neurons2': 11, 'optimizer': 'Adadelta'}\n",
      "0.681071 (0.045406) with: {'neurons': 13, 'neurons2': 11, 'optimizer': 'Adam'}\n",
      "0.651159 (0.052445) with: {'neurons': 13, 'neurons2': 12, 'optimizer': 'SGD'}\n",
      "0.700611 (0.051837) with: {'neurons': 13, 'neurons2': 12, 'optimizer': 'RMSprop'}\n",
      "0.690188 (0.043672) with: {'neurons': 13, 'neurons2': 12, 'optimizer': 'Adadelta'}\n",
      "0.678491 (0.052895) with: {'neurons': 13, 'neurons2': 12, 'optimizer': 'Adam'}\n",
      "0.686249 (0.056874) with: {'neurons': 13, 'neurons2': 13, 'optimizer': 'SGD'}\n",
      "0.684942 (0.052128) with: {'neurons': 13, 'neurons2': 13, 'optimizer': 'RMSprop'}\n",
      "0.684984 (0.058579) with: {'neurons': 13, 'neurons2': 13, 'optimizer': 'Adadelta'}\n",
      "0.675919 (0.061724) with: {'neurons': 13, 'neurons2': 13, 'optimizer': 'Adam'}\n",
      "0.662872 (0.056834) with: {'neurons': 13, 'neurons2': 14, 'optimizer': 'SGD'}\n",
      "0.688940 (0.063452) with: {'neurons': 13, 'neurons2': 14, 'optimizer': 'RMSprop'}\n",
      "0.682387 (0.052029) with: {'neurons': 13, 'neurons2': 14, 'optimizer': 'Adadelta'}\n",
      "0.677226 (0.058874) with: {'neurons': 13, 'neurons2': 14, 'optimizer': 'Adam'}\n",
      "0.664146 (0.041333) with: {'neurons': 14, 'neurons2': 10, 'optimizer': 'SGD'}\n",
      "0.699312 (0.051191) with: {'neurons': 14, 'neurons2': 10, 'optimizer': 'RMSprop'}\n",
      "0.684984 (0.042730) with: {'neurons': 14, 'neurons2': 10, 'optimizer': 'Adadelta'}\n",
      "0.677201 (0.072268) with: {'neurons': 14, 'neurons2': 10, 'optimizer': 'Adam'}\n",
      "0.660250 (0.051904) with: {'neurons': 14, 'neurons2': 11, 'optimizer': 'SGD'}\n",
      "0.679730 (0.035460) with: {'neurons': 14, 'neurons2': 11, 'optimizer': 'RMSprop'}\n",
      "0.681037 (0.042261) with: {'neurons': 14, 'neurons2': 11, 'optimizer': 'Adadelta'}\n",
      "0.671989 (0.060095) with: {'neurons': 14, 'neurons2': 11, 'optimizer': 'Adam'}\n",
      "0.665546 (0.073011) with: {'neurons': 14, 'neurons2': 12, 'optimizer': 'SGD'}\n",
      "0.709736 (0.041906) with: {'neurons': 14, 'neurons2': 12, 'optimizer': 'RMSprop'}\n",
      "0.673330 (0.066234) with: {'neurons': 14, 'neurons2': 12, 'optimizer': 'Adadelta'}\n",
      "0.682344 (0.058977) with: {'neurons': 14, 'neurons2': 12, 'optimizer': 'Adam'}\n",
      "0.671938 (0.038311) with: {'neurons': 14, 'neurons2': 13, 'optimizer': 'SGD'}\n",
      "0.696715 (0.048096) with: {'neurons': 14, 'neurons2': 13, 'optimizer': 'RMSprop'}\n",
      "0.686308 (0.065692) with: {'neurons': 14, 'neurons2': 13, 'optimizer': 'Adadelta'}\n",
      "0.687624 (0.065485) with: {'neurons': 14, 'neurons2': 13, 'optimizer': 'Adam'}\n",
      "0.662898 (0.048069) with: {'neurons': 14, 'neurons2': 14, 'optimizer': 'SGD'}\n",
      "0.686308 (0.065227) with: {'neurons': 14, 'neurons2': 14, 'optimizer': 'RMSprop'}\n",
      "0.692793 (0.056486) with: {'neurons': 14, 'neurons2': 14, 'optimizer': 'Adadelta'}\n",
      "0.679773 (0.049300) with: {'neurons': 14, 'neurons2': 14, 'optimizer': 'Adam'}\n"
     ]
    }
   ],
   "source": [
    "means = grid_result.cv_results_['mean_test_score']\n",
    "stds = grid_result.cv_results_['std_test_score']\n",
    "params = grid_result.cv_results_['params']\n",
    "for mean, stdev, param in zip(means, stds, params):\n",
    "    print(\"%f (%f) with: %r\" % (mean, stdev, param))\n",
    "    "
   ]
  },
  {
   "cell_type": "markdown",
   "metadata": {},
   "source": [
    "Imprimimos los mejores resultados de entre todos los modelos.\n",
    "Es importante destacar que se debe hacer una busqueda m"
   ]
  },
  {
   "cell_type": "code",
   "execution_count": 7,
   "metadata": {},
   "outputs": [
    {
     "name": "stdout",
     "output_type": "stream",
     "text": [
      "Best: 0.711009 using {'neurons': 10, 'neurons2': 12, 'optimizer': 'RMSprop'}\n"
     ]
    }
   ],
   "source": [
    "print(\"Best: %f using %s\" % (grid_result.best_score_, grid_result.best_params_))"
   ]
  },
  {
   "cell_type": "markdown",
   "metadata": {},
   "source": [
    "Todos los parámetros se pueden analizar, en [esta página](https://machinelearningmastery.com/grid-search-hyperparameters-deep-learning-models-python-keras/) hay ejemplos haciendo análsis de varios parámetros."
   ]
  }
 ],
 "metadata": {
  "kernelspec": {
   "display_name": "Python 3",
   "language": "python",
   "name": "python3"
  },
  "language_info": {
   "codemirror_mode": {
    "name": "ipython",
    "version": 3
   },
   "file_extension": ".py",
   "mimetype": "text/x-python",
   "name": "python",
   "nbconvert_exporter": "python",
   "pygments_lexer": "ipython3",
   "version": "3.7.6"
  }
 },
 "nbformat": 4,
 "nbformat_minor": 4
}
